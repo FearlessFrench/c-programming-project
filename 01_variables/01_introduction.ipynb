{
 "cells": [
  {
   "cell_type": "markdown",
   "id": "6a1f229d",
   "metadata": {},
   "source": [
    "# <b>What you'll need:</b>\n",
    "<ol>\n",
    "<li>IDE (Integrated Development Environment) - a workspace in which we can write code such as</li>\n",
    "<li>C Complier - converts our written code into machine code, so a computer can understand it</li>\n"
   ]
  },
  {
   "cell_type": "code",
   "execution_count": null,
   "id": "611340c9",
   "metadata": {
    "vscode": {
     "languageId": "plaintext"
    }
   },
   "outputs": [],
   "source": [
    "#include <stdio.h>\n",
    "#include <stdbool.h> -> when boolean is going to be use\n",
    "\n",
    "int main() {\n",
    "\n",
    "    // variable = A reusable container for a value.\n",
    "    //            Behaves as if it were the value it contains.\n",
    "\n",
    "    // int = whole numbers (4 bytes in modern systems)\n",
    "    // float = single-precision decimal number (4 bytes)\n",
    "    // double = double-precision decimal number (8 bytes)\n",
    "    // char = single character (1 byte)\n",
    "    // char[] = array of characters (size varies)\n",
    "    // bool = true or false (1 byte, requires <stdbool.h>)\n",
    "}"
   ]
  }
 ],
 "metadata": {
  "language_info": {
   "name": "python"
  }
 },
 "nbformat": 4,
 "nbformat_minor": 5
}
